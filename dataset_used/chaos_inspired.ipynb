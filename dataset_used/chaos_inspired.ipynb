{
  "nbformat": 4,
  "nbformat_minor": 0,
  "metadata": {
    "colab": {
      "provenance": []
    },
    "kernelspec": {
      "name": "python3",
      "display_name": "Python 3"
    },
    "language_info": {
      "name": "python"
    }
  },
  "cells": [
    {
      "cell_type": "code",
      "execution_count": 4,
      "metadata": {
        "colab": {
          "base_uri": "https://localhost:8080/"
        },
        "id": "mrOUYsPzSdqk",
        "outputId": "3ede0618-1a5b-4464-f56f-1474400cf713"
      },
      "outputs": [
        {
          "output_type": "stream",
          "name": "stdout",
          "text": [
            "Dataset saved as podfailpred_dataset.csv\n"
          ]
        }
      ],
      "source": [
        "import pandas as pd\n",
        "import numpy as np\n",
        "import random\n",
        "from datetime import datetime, timedelta\n",
        "\n",
        "# Reproducibility\n",
        "np.random.seed(42)\n",
        "random.seed(42)\n",
        "\n",
        "# Parameters\n",
        "n_rows = 21374\n",
        "failure_types = [\n",
        "    \"oom_kill\", \"pod_stuck\", \"cpu_throttle\", \"node_reboot\", \"image_pull_error\",\n",
        "    \"network_partition\", \"filesystem_error\", \"memory_leak\", \"disk_pressure\",\n",
        "    \"pod_eviction\", \"high_latency\", \"container_crash\", \"init_error\",\n",
        "    \"config_error\", \"dns_resolution_failure\"\n",
        "]\n",
        "namespaces = [\"default\", \"kube-system\", \"prod\", \"dev\", \"test\"]\n",
        "nodes = [f\"node-{i:02d}\" for i in range(1, 11)]\n",
        "\n",
        "def simulate_row():\n",
        "    fail = random.random() < 0.35  # ~35% failure rows\n",
        "    injected = fail and (random.random() < 0.6)\n",
        "\n",
        "    row = {\n",
        "        \"timestamp\": (datetime(2025, 3, 1) + timedelta(seconds=random.randint(0, 30*86400))).isoformat() + \"Z\",\n",
        "        \"namespace\": random.choice(namespaces),\n",
        "        \"pod_name\": f\"{random.choice(['api', 'db', 'redis'])}-deployment-{random.randint(1000, 9999)}\",\n",
        "        \"node_name\": random.choice(nodes),\n",
        "        \"failure_type\": random.choice(failure_types) if fail else \"none\",\n",
        "        \"failure_injected\": injected,\n",
        "        \"failure_detected\": fail and random.random() < 0.7,\n",
        "\n",
        "        # Metrics\n",
        "        \"cpu_usage_cores\": round(np.random.normal(1.5 if fail else 0.6, 0.5), 2),\n",
        "        \"memory_usage_bytes\": int(np.random.normal(6e9 if fail else 2e9, 1e9)),\n",
        "        \"disk_io_read_bytes\": random.randint(1e6, 1e7),\n",
        "        \"disk_io_write_bytes\": random.randint(1e6, 1e7),\n",
        "        \"network_rx_bytes\": random.randint(1e5, 5e6),\n",
        "        \"network_tx_bytes\": random.randint(1e5, 5e6),\n",
        "        \"oom_killed\": fail and random.random() < 0.2,\n",
        "        \"restart_count\": random.randint(5, 10) if fail else random.randint(0, 4),\n",
        "        \"latency_ms\": round(random.uniform(200, 1000) if fail else random.uniform(5, 200), 2),\n",
        "        \"container_ready\": not fail or random.random() > 0.4,\n",
        "        \"pod_scheduled\": True,\n",
        "\n",
        "        # Node metrics\n",
        "        \"node_cpu_allocatable_cores\": random.choice([2, 4, 8]),\n",
        "        \"node_memory_allocatable_bytes\": 16_000_000_000,\n",
        "\n",
        "        # Label\n",
        "        \"will_fail_soon\": fail\n",
        "    }\n",
        "\n",
        "    return row\n",
        "\n",
        "# Generate the dataset\n",
        "df = pd.DataFrame([simulate_row() for _ in range(n_rows)])\n",
        "\n",
        "# Save\n",
        "df.to_csv(\"podfailpred_dataset.csv\", index=False)\n",
        "print(\"Dataset saved as podfailpred_dataset.csv\")\n"
      ]
    },
    {
      "cell_type": "code",
      "source": [],
      "metadata": {
        "id": "qa49Az40S4Vf"
      },
      "execution_count": null,
      "outputs": []
    }
  ]
}